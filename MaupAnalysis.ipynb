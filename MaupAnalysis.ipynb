{
 "cells": [
  {
   "cell_type": "markdown",
   "metadata": {},
   "source": [
    "Initial Setup"
   ]
  },
  {
   "cell_type": "code",
   "execution_count": 39,
   "metadata": {},
   "outputs": [],
   "source": [
    "import pandas as pd\n",
    "import geopandas as gpd\n",
    "\n",
    "# get from san mateo county gis open data\n",
    "blocks = gpd.read_file(\"C:\\\\Users\\\\mnvoo\\\\Downloads\\\\Demographics,_San_Mateo_County-shp.zip\").to_crs(4228)\n",
    "precincts = gpd.read_file(\"C:\\\\Users\\\\mnvoo\\\\Downloads\\\\Election_Precincts_-_2021.zip\").to_crs(4228)\n",
    "districts = gpd.read_file(\"C:\\\\Users\\\\mnvoo\\\\Downloads\\\\Government-shp.zip\").to_crs(4228) # assembly districts\n",
    "\n",
    "tracts = gpd.read_file(\"C:\\\\Users\\\\mnvoo\\\\Downloads\\\\Boundaries-shp.zip\").to_crs(4228)"
   ]
  },
  {
   "cell_type": "markdown",
   "metadata": {},
   "source": [
    "Assigning Precincts to Districts"
   ]
  },
  {
   "cell_type": "code",
   "execution_count": 46,
   "metadata": {},
   "outputs": [
    {
     "name": "stderr",
     "output_type": "stream",
     "text": [
      "c:\\Users\\mnvoo\\AppData\\Local\\Programs\\Python\\Python312\\Lib\\site-packages\\maup\\intersections.py:47: UserWarning: Geometry is in a geographic CRS. Results from 'area' are likely incorrect. Use 'GeoSeries.to_crs()' to re-project geometries to a projected CRS before this operation.\n",
      "\n",
      "  df = df[df.area > area_cutoff].reset_index(drop=True)\n",
      "c:\\Users\\mnvoo\\AppData\\Local\\Programs\\Python\\Python312\\Lib\\site-packages\\maup\\intersections.py:48: UserWarning: Geometry is in a geographic CRS. Results from 'area' are likely incorrect. Use 'GeoSeries.to_crs()' to re-project geometries to a projected CRS before this operation.\n",
      "\n",
      "  geometries = geometries[geometries.area > area_cutoff]\n",
      "c:\\Users\\mnvoo\\AppData\\Local\\Programs\\Python\\Python312\\Lib\\site-packages\\maup\\assign.py:38: UserWarning: Geometry is in a geographic CRS. Results from 'area' are likely incorrect. Use 'GeoSeries.to_crs()' to re-project geometries to a projected CRS before this operation.\n",
      "\n",
      "  return assign_to_max(intersections(sources, targets, area_cutoff=0).area)\n"
     ]
    },
    {
     "data": {
      "text/plain": [
       "0    0\n",
       "1    0\n",
       "2    0\n",
       "3    0\n",
       "4    0\n",
       "dtype: int64"
      ]
     },
     "execution_count": 46,
     "metadata": {},
     "output_type": "execute_result"
    }
   ],
   "source": [
    "import maup\n",
    "\n",
    "precinct_to_district_assignment = maup.assign(precincts, districts)\n",
    "precincts[\"DISTRICT\"] = precinct_to_district_assignment\n",
    "\n",
    "precinct_to_district_assignment.head()"
   ]
  },
  {
   "cell_type": "markdown",
   "metadata": {},
   "source": [
    "Disaggregate Data from Census Tracts to Precincts"
   ]
  },
  {
   "cell_type": "code",
   "execution_count": 44,
   "metadata": {},
   "outputs": [
    {
     "name": "stderr",
     "output_type": "stream",
     "text": [
      "c:\\Users\\mnvoo\\AppData\\Local\\Programs\\Python\\Python312\\Lib\\site-packages\\maup\\intersections.py:47: UserWarning: Geometry is in a geographic CRS. Results from 'area' are likely incorrect. Use 'GeoSeries.to_crs()' to re-project geometries to a projected CRS before this operation.\n",
      "\n",
      "  df = df[df.area > area_cutoff].reset_index(drop=True)\n",
      "c:\\Users\\mnvoo\\AppData\\Local\\Programs\\Python\\Python312\\Lib\\site-packages\\maup\\intersections.py:48: UserWarning: Geometry is in a geographic CRS. Results from 'area' are likely incorrect. Use 'GeoSeries.to_crs()' to re-project geometries to a projected CRS before this operation.\n",
      "\n",
      "  geometries = geometries[geometries.area > area_cutoff]\n",
      "c:\\Users\\mnvoo\\AppData\\Local\\Programs\\Python\\Python312\\Lib\\site-packages\\maup\\assign.py:38: UserWarning: Geometry is in a geographic CRS. Results from 'area' are likely incorrect. Use 'GeoSeries.to_crs()' to re-project geometries to a projected CRS before this operation.\n",
      "\n",
      "  return assign_to_max(intersections(sources, targets, area_cutoff=0).area)\n"
     ]
    },
    {
     "data": {
      "text/html": [
       "<div>\n",
       "<style scoped>\n",
       "    .dataframe tbody tr th:only-of-type {\n",
       "        vertical-align: middle;\n",
       "    }\n",
       "\n",
       "    .dataframe tbody tr th {\n",
       "        vertical-align: top;\n",
       "    }\n",
       "\n",
       "    .dataframe thead th {\n",
       "        text-align: right;\n",
       "    }\n",
       "</style>\n",
       "<table border=\"1\" class=\"dataframe\">\n",
       "  <thead>\n",
       "    <tr style=\"text-align: right;\">\n",
       "      <th></th>\n",
       "      <th>HISPANIC</th>\n",
       "    </tr>\n",
       "  </thead>\n",
       "  <tbody>\n",
       "    <tr>\n",
       "      <th>0</th>\n",
       "      <td>554.96</td>\n",
       "    </tr>\n",
       "    <tr>\n",
       "      <th>1</th>\n",
       "      <td>227.33</td>\n",
       "    </tr>\n",
       "    <tr>\n",
       "      <th>2</th>\n",
       "      <td>226.50</td>\n",
       "    </tr>\n",
       "    <tr>\n",
       "      <th>3</th>\n",
       "      <td>173.44</td>\n",
       "    </tr>\n",
       "    <tr>\n",
       "      <th>4</th>\n",
       "      <td>327.35</td>\n",
       "    </tr>\n",
       "  </tbody>\n",
       "</table>\n",
       "</div>"
      ],
      "text/plain": [
       "   HISPANIC\n",
       "0    554.96\n",
       "1    227.33\n",
       "2    226.50\n",
       "3    173.44\n",
       "4    327.35"
      ]
     },
     "execution_count": 44,
     "metadata": {},
     "output_type": "execute_result"
    }
   ],
   "source": [
    "columns = [\"HISPANIC\"]\n",
    "precincts_to_tracts_assignment = maup.assign(precincts, tracts)\n",
    "\n",
    "\n",
    "# should be precinct population\n",
    "weights = tracts.POP2012 / precincts_to_tracts_assignment.map(tracts.POP2012.groupby(\n",
    "    precincts_to_tracts_assignment).sum())\n",
    "prorated = maup.prorate(precincts_to_tracts_assignment, tracts[columns], weights)\n",
    "\n",
    "precincts[columns] = prorated\n",
    "\n",
    "precincts[columns].round(2).head()\n"
   ]
  }
 ],
 "metadata": {
  "kernelspec": {
   "display_name": "Python 3",
   "language": "python",
   "name": "python3"
  },
  "language_info": {
   "codemirror_mode": {
    "name": "ipython",
    "version": 3
   },
   "file_extension": ".py",
   "mimetype": "text/x-python",
   "name": "python",
   "nbconvert_exporter": "python",
   "pygments_lexer": "ipython3",
   "version": "3.12.1"
  }
 },
 "nbformat": 4,
 "nbformat_minor": 2
}
